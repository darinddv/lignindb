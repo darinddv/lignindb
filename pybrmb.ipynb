{
 "cells": [
  {
   "cell_type": "code",
   "execution_count": 74,
   "metadata": {},
   "outputs": [],
   "source": [
    "from pybmrb import Spectra, Histogram, ChemicalShift\n",
    "import pynmrstar\n",
    "import json\n",
    "import re"
   ]
  },
  {
   "cell_type": "markdown",
   "metadata": {},
   "source": [
    "# Formulate JSON schema"
   ]
  },
  {
   "cell_type": "code",
   "execution_count": 125,
   "metadata": {},
   "outputs": [
    {
     "data": {
      "text/plain": [
       "'{\"id\": \"bmse010050\", \"name\": [\"Veratrone\", \"1-(3,4-Dimethoxyphenyl)-3-hydroxy-2-(2-methoxyphenoxy)propan-1-one\"], \"formula\": \"C18 H20 O6\", \"formula_weight\": \"332.3478\", \"spectrometer\": \"Bruker WM 250 MHz\", \"lignin-category\": [\"b-O-4 Dimers, 3-Carbon Sidechain, a-C=O\"], \"smiles\": [\"COC1=CC=CC=C1OC(CO)C(C2=CC(=C(C=C2)OC)OC)=O\", \"COC1=CC=CC=C1OC(CO)C(C2=CC(=C(C=C2)OC)OC)=O\"], \"InChI\": \"InChI=1S/C18H20O6/c1-21-13-6-4-5-7-15(13)24-17(11-19)18(20)12-8-9-14(22-2)16(10-12)23-3/h4-10,17,19H,11H2,1-3H3/t17-/m0/s1\"}'"
      ]
     },
     "execution_count": 125,
     "metadata": {},
     "output_type": "execute_result"
    }
   ],
   "source": [
    "bmse010050 = pynmrstar.Entry.from_database(\"bmse010050\")\n",
    "entry_id = bmse010050.get_tag('Entry.ID')[0]\n",
    "entry_name = bmse010050.get_tag('Chem_comp_common_name.Name')\n",
    "formula = bmse010050.get_tag(\"Chem_comp.Formula\")[0]\n",
    "formula_weight = bmse010050.get_tag(\"Chem_comp.Formula_weight\")[0]\n",
    "NMR_manufacturer = bmse010050.get_tag(\"NMR_spectrometer.Manufacturer\")[0]\n",
    "NMR_model = bmse010050.get_tag(\"NMR_spectrometer.Model\")[0]\n",
    "NMR_field = bmse010050.get_tag(\"NMR_spectrometer.Field_strength\")[0]\n",
    "spectrometer = NMR_manufacturer + \" \" + NMR_model + \" \" + NMR_field + \" MHz\"\n",
    "reference = bmse010050.get_tags([\"Chem_shift_ref.Atom_type\",\n",
    "                                \"Chem_shift_ref.Mol_common_name\",\n",
    "                                \"Chem_shift_ref.Atom_group\",\n",
    "                                \"Chem_shift_ref.Chem_shift_val\",\n",
    "                                \"Chem_shift_ref.Ref_method\",\n",
    "                                \"Chem_shift_ref.Ref_type\"])\n",
    "reference = {\"reference1\": {\n",
    "                            \"nucleus\":bmse010050.get_tag(\"Chem_shift_ref.Atom_type\"),\n",
    "                            \"name\": bmse010050.get_tag(\"Chem_shift_ref.Mol_common_name\"),\n",
    "                            \"reference-atom\": bmse010050.get_tag(\"Chem_shift_ref.Atom_group\"),\n",
    "                            \"Chem_shift_val\": bmse010050.get_tag(\"Chem_shift_ref.Chem_shift_val\"),\n",
    "                            \"Ref_method\": bmse010050.get_tag(\"Chem_shift_ref.Ref_method\"),\n",
    "                            \"Ref_type\": bmse010050.get_tag(\"Chem_shift_ref.Ref_type\")\n",
    "                           }  \n",
    "                }\n",
    "lignin_category = bmse010050.get_tag(\"Chem_comp.Details\")   \n",
    "smiles = bmse010050.get_tag(\"Chem_comp_SMILES.String\")             \n",
    "inchi = bmse010050.get_tag(\"Chem_comp.InChI_code\")[0] \n",
    "entry = {\n",
    "        'id': entry_id, # concatenate 'compound number' to this\n",
    "        'name': entry_name,\n",
    "        'formula': formula,\n",
    "        'formula_weight': formula_weight,\n",
    "        'spectrometer': spectrometer,\n",
    "        'lignin-category': lignin_category,\n",
    "        'smiles': smiles,\n",
    "        'InChI': inchi\n",
    "        }\n",
    "json.dumps(entry)"
   ]
  },
  {
   "cell_type": "code",
   "execution_count": 117,
   "metadata": {},
   "outputs": [
    {
     "name": "stdout",
     "output_type": "stream",
     "text": [
      "\n",
      "   loop_\n",
      "      _Chem_shift_ref.Atom_type\n",
      "      _Chem_shift_ref.Atom_isotope_number\n",
      "      _Chem_shift_ref.Mol_common_name\n",
      "      _Chem_shift_ref.Atom_group\n",
      "      _Chem_shift_ref.Chem_shift_units\n",
      "      _Chem_shift_ref.Chem_shift_val\n",
      "      _Chem_shift_ref.Ref_method\n",
      "      _Chem_shift_ref.Ref_type\n",
      "      _Chem_shift_ref.Indirect_shift_ratio\n",
      "      _Chem_shift_ref.External_ref_loc\n",
      "      _Chem_shift_ref.External_ref_sample_geometry\n",
      "      _Chem_shift_ref.External_ref_axis\n",
      "      _Chem_shift_ref.Entry_ID\n",
      "      _Chem_shift_ref.Chem_shift_reference_ID\n",
      "\n",
      "     H   1    CDCl3   'residual solvent proton'   ppm   7.24    internal   direct   1.000000000   ?   ?   ?   bmse010050   1    \n",
      "     C   13   CDCl3   'solvent carbon'            ppm   77.00   internal   direct   ?             ?   ?   ?   bmse010050   1    \n",
      "\n",
      "   stop_\n",
      "\n"
     ]
    }
   ],
   "source": [
    "a = bmse010050.get_loops_by_category(\"Chem_shift_ref\")[0]\n",
    "print(a)"
   ]
  },
  {
   "cell_type": "code",
   "execution_count": 97,
   "metadata": {},
   "outputs": [
    {
     "ename": "TypeError",
     "evalue": "expected string or bytes-like object",
     "output_type": "error",
     "traceback": [
      "\u001b[1;31m---------------------------------------------------------------------------\u001b[0m",
      "\u001b[1;31mTypeError\u001b[0m                                 Traceback (most recent call last)",
      "\u001b[1;32m~\\AppData\\Local\\Temp/ipykernel_14960/2771571134.py\u001b[0m in \u001b[0;36m<module>\u001b[1;34m\u001b[0m\n\u001b[0;32m      1\u001b[0m \u001b[0mref\u001b[0m \u001b[1;33m=\u001b[0m \u001b[0mbmse010050\u001b[0m\u001b[1;33m.\u001b[0m\u001b[0mget_saveframes_by_category\u001b[0m\u001b[1;33m(\u001b[0m\u001b[1;34m\"chem_shift_reference\"\u001b[0m\u001b[1;33m)\u001b[0m\u001b[1;33m\u001b[0m\u001b[1;33m\u001b[0m\u001b[0m\n\u001b[0;32m      2\u001b[0m \u001b[0ms\u001b[0m \u001b[1;33m=\u001b[0m \u001b[0mlist\u001b[0m\u001b[1;33m(\u001b[0m\u001b[0mref\u001b[0m\u001b[1;33m[\u001b[0m\u001b[1;36m0\u001b[0m\u001b[1;33m]\u001b[0m\u001b[1;33m)\u001b[0m\u001b[1;33m\u001b[0m\u001b[1;33m\u001b[0m\u001b[0m\n\u001b[1;32m----> 3\u001b[1;33m \u001b[0mresult\u001b[0m \u001b[1;33m=\u001b[0m \u001b[0mre\u001b[0m\u001b[1;33m.\u001b[0m\u001b[0msearch\u001b[0m\u001b[1;33m(\u001b[0m\u001b[1;34m\"[<pynmrstar.Loop '(.*)'>]\"\u001b[0m\u001b[1;33m,\u001b[0m \u001b[0ms\u001b[0m\u001b[1;33m)\u001b[0m\u001b[1;33m\u001b[0m\u001b[1;33m\u001b[0m\u001b[0m\n\u001b[0m\u001b[0;32m      4\u001b[0m \u001b[0mresult\u001b[0m\u001b[1;33m.\u001b[0m\u001b[0mgroup\u001b[0m\u001b[1;33m(\u001b[0m\u001b[1;36m1\u001b[0m\u001b[1;33m)\u001b[0m\u001b[1;33m\u001b[0m\u001b[1;33m\u001b[0m\u001b[0m\n",
      "\u001b[1;32mc:\\Users\\darin\\anaconda3\\lib\\re.py\u001b[0m in \u001b[0;36msearch\u001b[1;34m(pattern, string, flags)\u001b[0m\n\u001b[0;32m    199\u001b[0m     \"\"\"Scan through string looking for a match to the pattern, returning\n\u001b[0;32m    200\u001b[0m     a Match object, or None if no match was found.\"\"\"\n\u001b[1;32m--> 201\u001b[1;33m     \u001b[1;32mreturn\u001b[0m \u001b[0m_compile\u001b[0m\u001b[1;33m(\u001b[0m\u001b[0mpattern\u001b[0m\u001b[1;33m,\u001b[0m \u001b[0mflags\u001b[0m\u001b[1;33m)\u001b[0m\u001b[1;33m.\u001b[0m\u001b[0msearch\u001b[0m\u001b[1;33m(\u001b[0m\u001b[0mstring\u001b[0m\u001b[1;33m)\u001b[0m\u001b[1;33m\u001b[0m\u001b[1;33m\u001b[0m\u001b[0m\n\u001b[0m\u001b[0;32m    202\u001b[0m \u001b[1;33m\u001b[0m\u001b[0m\n\u001b[0;32m    203\u001b[0m \u001b[1;32mdef\u001b[0m \u001b[0msub\u001b[0m\u001b[1;33m(\u001b[0m\u001b[0mpattern\u001b[0m\u001b[1;33m,\u001b[0m \u001b[0mrepl\u001b[0m\u001b[1;33m,\u001b[0m \u001b[0mstring\u001b[0m\u001b[1;33m,\u001b[0m \u001b[0mcount\u001b[0m\u001b[1;33m=\u001b[0m\u001b[1;36m0\u001b[0m\u001b[1;33m,\u001b[0m \u001b[0mflags\u001b[0m\u001b[1;33m=\u001b[0m\u001b[1;36m0\u001b[0m\u001b[1;33m)\u001b[0m\u001b[1;33m:\u001b[0m\u001b[1;33m\u001b[0m\u001b[1;33m\u001b[0m\u001b[0m\n",
      "\u001b[1;31mTypeError\u001b[0m: expected string or bytes-like object"
     ]
    }
   ],
   "source": [
    "for i in len(bmse010050.get_saveframes_by_category(\"chem_shift_reference\")):\n",
    "    \n"
   ]
  },
  {
   "cell_type": "code",
   "execution_count": 101,
   "metadata": {},
   "outputs": [
    {
     "data": {
      "text/plain": [
       "<pynmrstar.Saveframe 'chem_shift_reference_1'>"
      ]
     },
     "execution_count": 101,
     "metadata": {},
     "output_type": "execute_result"
    }
   ],
   "source": [
    "ref[0]"
   ]
  },
  {
   "cell_type": "markdown",
   "metadata": {},
   "source": [
    "# Name and Formula"
   ]
  },
  {
   "cell_type": "code",
   "execution_count": 2,
   "metadata": {},
   "outputs": [],
   "source": [
    "bmse010050 = pynmrstar.Entry.from_database(\"bmse010050\")\n",
    "name = bmse010050.get_tag('Chem_comp_common_name.Name')\n",
    "formula = bmse010050.get_tag(\"Chem_comp.Formula\")\n",
    "formula_weight = bmse010050.get_tag(\"Chem_comp.Formula_weight\")"
   ]
  },
  {
   "cell_type": "markdown",
   "metadata": {},
   "source": [
    "# Equipment"
   ]
  },
  {
   "cell_type": "code",
   "execution_count": 23,
   "metadata": {},
   "outputs": [],
   "source": [
    "NMR_manufacturer = bmse010050.get_tag(\"NMR_spectrometer.Manufacturer\")\n",
    "NMR_field = bmse010050.get_tag(\"NMR_spectrometer.Field_strength\")[0]"
   ]
  },
  {
   "cell_type": "markdown",
   "metadata": {},
   "source": [
    "# Sample Info"
   ]
  },
  {
   "cell_type": "code",
   "execution_count": 12,
   "metadata": {},
   "outputs": [],
   "source": [
    "#H_reference = bmse010050.get_loops_by_category(\"Chem_shift_ref\")\n",
    "H_reference = [bmse010050.get_tag(\"Chem_shift_ref.Mol_common_name\")[2],\n",
    "                 bmse010050.get_tag(\"Chem_shift_ref.Atom_group\")[0]]\n",
    "\n"
   ]
  },
  {
   "cell_type": "code",
   "execution_count": 27,
   "metadata": {},
   "outputs": [
    {
     "data": {
      "text/plain": [
       "'{\"data\": \"250\"}'"
      ]
     },
     "execution_count": 27,
     "metadata": {},
     "output_type": "execute_result"
    }
   ],
   "source": [
    "x = {\"data\": NMR_field}\n",
    "json.dumps(x)"
   ]
  },
  {
   "cell_type": "code",
   "execution_count": 19,
   "metadata": {},
   "outputs": [
    {
     "ename": "AttributeError",
     "evalue": "'str' object has no attribute 'entry_id'",
     "output_type": "error",
     "traceback": [
      "\u001b[1;31m---------------------------------------------------------------------------\u001b[0m",
      "\u001b[1;31mAttributeError\u001b[0m                            Traceback (most recent call last)",
      "\u001b[1;32m~\\AppData\\Local\\Temp/ipykernel_14960/963787025.py\u001b[0m in \u001b[0;36m<module>\u001b[1;34m\u001b[0m\n\u001b[1;32m----> 1\u001b[1;33m \u001b[0mChemicalShift\u001b[0m\u001b[1;33m.\u001b[0m\u001b[0mfrom_entry_object\u001b[0m\u001b[1;33m(\u001b[0m\u001b[1;34m\"bmse010001\"\u001b[0m\u001b[1;33m)\u001b[0m\u001b[1;33m\u001b[0m\u001b[1;33m\u001b[0m\u001b[0m\n\u001b[0m",
      "\u001b[1;32mc:\\Users\\darin\\anaconda3\\lib\\site-packages\\pybmrb\\ChemicalShift.py\u001b[0m in \u001b[0;36mfrom_entry_object\u001b[1;34m(entry_objects, auth_tag, data_set_id)\u001b[0m\n\u001b[0;32m    123\u001b[0m     \u001b[1;32melse\u001b[0m\u001b[1;33m:\u001b[0m\u001b[1;33m\u001b[0m\u001b[1;33m\u001b[0m\u001b[0m\n\u001b[0;32m    124\u001b[0m         \u001b[1;32mif\u001b[0m \u001b[0mdata_set_id\u001b[0m \u001b[1;32mis\u001b[0m \u001b[1;32mNone\u001b[0m\u001b[1;33m:\u001b[0m\u001b[1;33m\u001b[0m\u001b[1;33m\u001b[0m\u001b[0m\n\u001b[1;32m--> 125\u001b[1;33m             \u001b[0mdata_set_id\u001b[0m \u001b[1;33m=\u001b[0m \u001b[0mentry_objects\u001b[0m\u001b[1;33m.\u001b[0m\u001b[0mentry_id\u001b[0m\u001b[1;33m\u001b[0m\u001b[1;33m\u001b[0m\u001b[0m\n\u001b[0m\u001b[0;32m    126\u001b[0m         cs_data = _from_pynmrstar_entry_object(entry_data=entry_objects, data_set_id=data_set_id,\n\u001b[0;32m    127\u001b[0m                                                auth_tag=auth_tag)\n",
      "\u001b[1;31mAttributeError\u001b[0m: 'str' object has no attribute 'entry_id'"
     ]
    }
   ],
   "source": [
    "ChemicalShift.from_entry_object(\"bmse010001\")"
   ]
  },
  {
   "cell_type": "code",
   "execution_count": 2,
   "metadata": {},
   "outputs": [
    {
     "data": {
      "application/vnd.plotly.v1+json": {
       "config": {
        "plotlyServerURL": "https://plot.ly"
       },
       "data": [
        {
         "hovertemplate": "<b>%{hovertext}</b><br><br>Residue=LEU<br><sup>1</sup>H (ppm)=%{x}<br><sup>15</sup>N (ppm)=%{y}<extra></extra>",
         "hovertext": [
          "15060-1-1-20-LEU-H-N",
          "15060-1-1-37-LEU-H-N",
          "15060-1-1-48-LEU-H-N",
          "15060-1-1-68-LEU-H-N",
          "15060-1-1-72-LEU-H-N",
          "15060-1-1-76-LEU-H-N",
          "15060-1-1-80-LEU-H-N",
          "15060-1-1-83-LEU-H-N",
          "15060-1-1-91-LEU-H-N"
         ],
         "legendgroup": "LEU",
         "marker": {
          "color": "#636efa",
          "opacity": 0.7,
          "symbol": "circle"
         },
         "mode": "markers",
         "name": "LEU",
         "orientation": "v",
         "showlegend": true,
         "type": "scatter",
         "x": [
          8.149,
          8.733,
          7.831,
          7.545,
          7.912,
          7.241,
          8.16,
          7.897,
          7.936
         ],
         "xaxis": "x",
         "y": [
          122.739,
          118.921,
          118.032,
          123.253,
          118.675,
          119.17,
          117.39,
          121.629,
          121.017
         ],
         "yaxis": "y"
        },
        {
         "hovertemplate": "<b>%{hovertext}</b><br><br>Residue=VAL<br><sup>1</sup>H (ppm)=%{x}<br><sup>15</sup>N (ppm)=%{y}<extra></extra>",
         "hovertext": [
          "15060-1-1-21-VAL-H-N",
          "15060-1-1-61-VAL-H-N",
          "15060-1-1-73-VAL-H-N",
          "15060-1-1-93-VAL-H-N"
         ],
         "legendgroup": "VAL",
         "marker": {
          "color": "#EF553B",
          "opacity": 0.7,
          "symbol": "circle"
         },
         "mode": "markers",
         "name": "VAL",
         "orientation": "v",
         "showlegend": true,
         "type": "scatter",
         "x": [
          8.048,
          7.38,
          7.761,
          8.033
         ],
         "xaxis": "x",
         "y": [
          120.251,
          119.124,
          119.359,
          119.731
         ],
         "yaxis": "y"
        },
        {
         "hovertemplate": "<b>%{hovertext}</b><br><br>Residue=THR<br><sup>1</sup>H (ppm)=%{x}<br><sup>15</sup>N (ppm)=%{y}<extra></extra>",
         "hovertext": [
          "15060-1-1-22-THR-H-N",
          "15060-1-1-82-THR-H-N"
         ],
         "legendgroup": "THR",
         "marker": {
          "color": "#00cc96",
          "opacity": 0.7,
          "symbol": "circle"
         },
         "mode": "markers",
         "name": "THR",
         "orientation": "v",
         "showlegend": true,
         "type": "scatter",
         "x": [
          8.032,
          8.036
         ],
         "xaxis": "x",
         "y": [
          116.327,
          119.38
         ],
         "yaxis": "y"
        },
        {
         "hovertemplate": "<b>%{hovertext}</b><br><br>Residue=ILE<br><sup>1</sup>H (ppm)=%{x}<br><sup>15</sup>N (ppm)=%{y}<extra></extra>",
         "hovertext": [
          "15060-1-1-24-ILE-H-N",
          "15060-1-1-28-ILE-H-N",
          "15060-1-1-56-ILE-H-N",
          "15060-1-1-58-ILE-H-N"
         ],
         "legendgroup": "ILE",
         "marker": {
          "color": "#ab63fa",
          "opacity": 0.7,
          "symbol": "circle"
         },
         "mode": "markers",
         "name": "ILE",
         "orientation": "v",
         "showlegend": true,
         "type": "scatter",
         "x": [
          8.033,
          8.021,
          8.972,
          8.611
         ],
         "xaxis": "x",
         "y": [
          119.731,
          121.869,
          119.002,
          128.642
         ],
         "yaxis": "y"
        },
        {
         "hovertemplate": "<b>%{hovertext}</b><br><br>Residue=GLN<br><sup>1</sup>H (ppm)=%{x}<br><sup>15</sup>N (ppm)=%{y}<extra></extra>",
         "hovertext": [
          "15060-1-1-25-GLN-H-N",
          "15060-1-1-25-GLN-HE21-NE2",
          "15060-1-1-25-GLN-HE22-NE2",
          "15060-1-1-26-GLN-H-N",
          "15060-1-1-26-GLN-HE21-NE2",
          "15060-1-1-26-GLN-HE22-NE2",
          "15060-1-1-44-GLN-H-N",
          "15060-1-1-44-GLN-HE21-NE2",
          "15060-1-1-44-GLN-HE22-NE2",
          "15060-1-1-47-GLN-H-N",
          "15060-1-1-47-GLN-HE21-NE2",
          "15060-1-1-47-GLN-HE22-NE2",
          "15060-1-1-53-GLN-H-N",
          "15060-1-1-53-GLN-HE21-NE2",
          "15060-1-1-53-GLN-HE22-NE2",
          "15060-1-1-96-GLN-H-N",
          "15060-1-1-96-GLN-HE21-NE2",
          "15060-1-1-96-GLN-HE22-NE2"
         ],
         "legendgroup": "GLN",
         "marker": {
          "color": "#FFA15A",
          "opacity": 0.7,
          "symbol": "circle"
         },
         "mode": "markers",
         "name": "GLN",
         "orientation": "v",
         "showlegend": true,
         "type": "scatter",
         "x": [
          8.021,
          7.703,
          6.839,
          8.313,
          7.393,
          6.77,
          10.134,
          7.6,
          7.526,
          8.114,
          7.884,
          6.867,
          8.169,
          7.337,
          6.871,
          8.16,
          7.519,
          6.884
         ],
         "xaxis": "x",
         "y": [
          121.4,
          112.158,
          112.158,
          119.279,
          111.116,
          111.116,
          121.355,
          111.932,
          111.932,
          117.39,
          115.368,
          115.368,
          114.417,
          113.885,
          113.885,
          121.289,
          112.512,
          112.512
         ],
         "yaxis": "y"
        },
        {
         "hovertemplate": "<b>%{hovertext}</b><br><br>Residue=GLU<br><sup>1</sup>H (ppm)=%{x}<br><sup>15</sup>N (ppm)=%{y}<extra></extra>",
         "hovertext": [
          "15060-1-1-27-GLU-H-N",
          "15060-1-1-29-GLU-H-N",
          "15060-1-1-32-GLU-H-N",
          "15060-1-1-50-GLU-H-N",
          "15060-1-1-69-GLU-H-N",
          "15060-1-1-74-GLU-H-N",
          "15060-1-1-105-GLU-H-N",
          "15060-1-1-106-GLU-H-N"
         ],
         "legendgroup": "GLU",
         "marker": {
          "color": "#19d3f3",
          "opacity": 0.7,
          "symbol": "circle"
         },
         "mode": "markers",
         "name": "GLU",
         "orientation": "v",
         "showlegend": true,
         "type": "scatter",
         "x": [
          8.197,
          8.269,
          8.236,
          8.499,
          8.659,
          8.615,
          8.269,
          8.391
         ],
         "xaxis": "x",
         "y": [
          119.648,
          120.647,
          118.525,
          123.085,
          121.494,
          119.749,
          120.647,
          122.119
         ],
         "yaxis": "y"
        },
        {
         "hovertemplate": "<b>%{hovertext}</b><br><br>Residue=ALA<br><sup>1</sup>H (ppm)=%{x}<br><sup>15</sup>N (ppm)=%{y}<extra></extra>",
         "hovertext": [
          "15060-1-1-30-ALA-H-N",
          "15060-1-1-33-ALA-H-N",
          "15060-1-1-39-ALA-H-N",
          "15060-1-1-40-ALA-H-N",
          "15060-1-1-46-ALA-H-N",
          "15060-1-1-59-ALA-H-N",
          "15060-1-1-60-ALA-H-N",
          "15060-1-1-87-ALA-H-N"
         ],
         "legendgroup": "ALA",
         "marker": {
          "color": "#FF6692",
          "opacity": 0.7,
          "symbol": "circle"
         },
         "mode": "markers",
         "name": "ALA",
         "orientation": "v",
         "showlegend": true,
         "type": "scatter",
         "x": [
          8.28,
          7.897,
          7.9,
          8.067,
          6.875,
          8.08,
          7.422,
          8.744
         ],
         "xaxis": "x",
         "y": [
          122.373,
          121.629,
          122.812,
          118.343,
          121.385,
          122.287,
          119.996,
          121.138
         ],
         "yaxis": "y"
        },
        {
         "hovertemplate": "<b>%{hovertext}</b><br><br>Residue=LYS<br><sup>1</sup>H (ppm)=%{x}<br><sup>15</sup>N (ppm)=%{y}<extra></extra>",
         "hovertext": [
          "15060-1-1-31-LYS-H-N",
          "15060-1-1-62-LYS-H-N",
          "15060-1-1-63-LYS-H-N",
          "15060-1-1-85-LYS-H-N",
          "15060-1-1-98-LYS-H-N",
          "15060-1-1-99-LYS-H-N"
         ],
         "legendgroup": "LYS",
         "marker": {
          "color": "#B6E880",
          "opacity": 0.7,
          "symbol": "circle"
         },
         "mode": "markers",
         "name": "LYS",
         "orientation": "v",
         "showlegend": true,
         "type": "scatter",
         "x": [
          7.997,
          8.236,
          7.435,
          8.096,
          8.441,
          8.522
         ],
         "xaxis": "x",
         "y": [
          120.697,
          118.525,
          118.03,
          122.287,
          123.396,
          123.539
         ],
         "yaxis": "y"
        },
        {
         "hovertemplate": "<b>%{hovertext}</b><br><br>Residue=CYS<br><sup>1</sup>H (ppm)=%{x}<br><sup>15</sup>N (ppm)=%{y}<extra></extra>",
         "hovertext": [
          "15060-1-1-34-CYS-H-N",
          "15060-1-1-77-CYS-H-N",
          "15060-1-1-86-CYS-H-N"
         ],
         "legendgroup": "CYS",
         "marker": {
          "color": "#FF97FF",
          "opacity": 0.7,
          "symbol": "circle"
         },
         "mode": "markers",
         "name": "CYS",
         "orientation": "v",
         "showlegend": true,
         "type": "scatter",
         "x": [
          8.451,
          8.273,
          8.435
         ],
         "xaxis": "x",
         "y": [
          116.884,
          116.751,
          118.712
         ],
         "yaxis": "y"
        },
        {
         "hovertemplate": "<b>%{hovertext}</b><br><br>Residue=ASP<br><sup>1</sup>H (ppm)=%{x}<br><sup>15</sup>N (ppm)=%{y}<extra></extra>",
         "hovertext": [
          "15060-1-1-35-ASP-H-N",
          "15060-1-1-51-ASP-H-N",
          "15060-1-1-64-ASP-H-N",
          "15060-1-1-66-ASP-H-N",
          "15060-1-1-71-ASP-H-N",
          "15060-1-1-92-ASP-H-N",
          "15060-1-1-101-ASP-H-N",
          "15060-1-1-102-ASP-H-N",
          "15060-1-1-104-ASP-H-N",
          "15060-1-1-107-ASP-H-N"
         ],
         "legendgroup": "ASP",
         "marker": {
          "color": "#FECB52",
          "opacity": 0.7,
          "symbol": "circle"
         },
         "mode": "markers",
         "name": "ASP",
         "orientation": "v",
         "showlegend": true,
         "type": "scatter",
         "x": [
          8.796,
          8.126,
          7.921,
          7.723,
          8.691,
          8.269,
          8.269,
          8.376,
          8.409,
          8.048
         ],
         "xaxis": "x",
         "y": [
          120.621,
          118.623,
          119.109,
          120.613,
          115.52,
          120.647,
          120.647,
          120.08,
          122.658,
          127.146
         ],
         "yaxis": "y"
        },
        {
         "hovertemplate": "<b>%{hovertext}</b><br><br>Residue=TRP<br><sup>1</sup>H (ppm)=%{x}<br><sup>15</sup>N (ppm)=%{y}<extra></extra>",
         "hovertext": [
          "15060-1-1-36-TRP-H-N",
          "15060-1-1-36-TRP-HE1-NE1"
         ],
         "legendgroup": "TRP",
         "marker": {
          "color": "#636efa",
          "opacity": 0.7,
          "symbol": "circle"
         },
         "mode": "markers",
         "name": "TRP",
         "orientation": "v",
         "showlegend": true,
         "type": "scatter",
         "x": [
          8.492,
          10.148
         ],
         "xaxis": "x",
         "y": [
          122.912,
          130.106
         ],
         "yaxis": "y"
        },
        {
         "hovertemplate": "<b>%{hovertext}</b><br><br>Residue=ARG<br><sup>1</sup>H (ppm)=%{x}<br><sup>15</sup>N (ppm)=%{y}<extra></extra>",
         "hovertext": [
          "15060-1-1-38-ARG-H-N",
          "15060-1-1-70-ARG-H-N",
          "15060-1-1-78-ARG-H-N",
          "15060-1-1-79-ARG-H-N",
          "15060-1-1-90-ARG-H-N",
          "15060-1-1-97-ARG-H-N"
         ],
         "legendgroup": "ARG",
         "marker": {
          "color": "#EF553B",
          "opacity": 0.7,
          "symbol": "circle"
         },
         "mode": "markers",
         "name": "ARG",
         "orientation": "v",
         "showlegend": true,
         "type": "scatter",
         "x": [
          8.032,
          8.804,
          8.06,
          7.328,
          7.793,
          8.204
         ],
         "xaxis": "x",
         "y": [
          116.327,
          123.728,
          120.251,
          120.135,
          118.95,
          122.338
         ],
         "yaxis": "y"
        },
        {
         "hovertemplate": "<b>%{hovertext}</b><br><br>Residue=GLY<br><sup>1</sup>H (ppm)=%{x}<br><sup>15</sup>N (ppm)=%{y}<extra></extra>",
         "hovertext": [
          "15060-1-1-41-GLY-H-N"
         ],
         "legendgroup": "GLY",
         "marker": {
          "color": "#00cc96",
          "opacity": 0.7,
          "symbol": "circle"
         },
         "mode": "markers",
         "name": "GLY",
         "orientation": "v",
         "showlegend": true,
         "type": "scatter",
         "x": [
          7.093
         ],
         "xaxis": "x",
         "y": [
          101.824
         ],
         "yaxis": "y"
        },
        {
         "hovertemplate": "<b>%{hovertext}</b><br><br>Residue=PHE<br><sup>1</sup>H (ppm)=%{x}<br><sup>15</sup>N (ppm)=%{y}<extra></extra>",
         "hovertext": [
          "15060-1-1-42-PHE-H-N",
          "15060-1-1-54-PHE-H-N",
          "15060-1-1-67-PHE-H-N",
          "15060-1-1-95-PHE-H-N"
         ],
         "legendgroup": "PHE",
         "marker": {
          "color": "#ab63fa",
          "opacity": 0.7,
          "symbol": "circle"
         },
         "mode": "markers",
         "name": "PHE",
         "orientation": "v",
         "showlegend": true,
         "type": "scatter",
         "x": [
          8.648,
          8.165,
          7.553,
          8.048
         ],
         "xaxis": "x",
         "y": [
          118.308,
          121.83,
          115.112,
          120.616
         ],
         "yaxis": "y"
        },
        {
         "hovertemplate": "<b>%{hovertext}</b><br><br>Residue=TYR<br><sup>1</sup>H (ppm)=%{x}<br><sup>15</sup>N (ppm)=%{y}<extra></extra>",
         "hovertext": [
          "15060-1-1-45-TYR-H-N",
          "15060-1-1-49-TYR-H-N"
         ],
         "legendgroup": "TYR",
         "marker": {
          "color": "#FFA15A",
          "opacity": 0.7,
          "symbol": "circle"
         },
         "mode": "markers",
         "name": "TYR",
         "orientation": "v",
         "showlegend": true,
         "type": "scatter",
         "x": [
          7.241,
          7.761
         ],
         "xaxis": "x",
         "y": [
          119.17,
          119.359
         ],
         "yaxis": "y"
        },
        {
         "hovertemplate": "<b>%{hovertext}</b><br><br>Residue=SER<br><sup>1</sup>H (ppm)=%{x}<br><sup>15</sup>N (ppm)=%{y}<extra></extra>",
         "hovertext": [
          "15060-1-1-52-SER-H-N",
          "15060-1-1-88-SER-H-N",
          "15060-1-1-103-SER-H-N"
         ],
         "legendgroup": "SER",
         "marker": {
          "color": "#19d3f3",
          "opacity": 0.7,
          "symbol": "circle"
         },
         "mode": "markers",
         "name": "SER",
         "orientation": "v",
         "showlegend": true,
         "type": "scatter",
         "x": [
          7.882,
          8.087,
          8.239
         ],
         "xaxis": "x",
         "y": [
          111.515,
          113.499,
          115.602
         ],
         "yaxis": "y"
        },
        {
         "hovertemplate": "<b>%{hovertext}</b><br><br>Residue=ASN<br><sup>1</sup>H (ppm)=%{x}<br><sup>15</sup>N (ppm)=%{y}<extra></extra>",
         "hovertext": [
          "15060-1-1-57-ASN-H-N",
          "15060-1-1-57-ASN-HD21-ND2",
          "15060-1-1-57-ASN-HD22-ND2",
          "15060-1-1-81-ASN-H-N",
          "15060-1-1-81-ASN-HD21-ND2",
          "15060-1-1-81-ASN-HD22-ND2",
          "15060-1-1-84-ASN-H-N",
          "15060-1-1-84-ASN-HD21-ND2",
          "15060-1-1-84-ASN-HD22-ND2",
          "15060-1-1-94-ASN-H-N",
          "15060-1-1-94-ASN-HD21-ND2",
          "15060-1-1-94-ASN-HD22-ND2"
         ],
         "legendgroup": "ASN",
         "marker": {
          "color": "#FF6692",
          "opacity": 0.7,
          "symbol": "circle"
         },
         "mode": "markers",
         "name": "ASN",
         "orientation": "v",
         "showlegend": true,
         "type": "scatter",
         "x": [
          8.39,
          7.007,
          7.71,
          8.517,
          7.566,
          6.954,
          8.967,
          7.232,
          7.739,
          8.376,
          7.684,
          6.944
         ],
         "xaxis": "x",
         "y": [
          122.152,
          111.858,
          111.858,
          118.647,
          114.2,
          114.2,
          121.031,
          105.352,
          105.352,
          120.08,
          113.553,
          113.553
         ],
         "yaxis": "y"
        },
        {
         "hovertemplate": "<b>%{hovertext}</b><br><br>Residue=HIS<br><sup>1</sup>H (ppm)=%{x}<br><sup>15</sup>N (ppm)=%{y}<extra></extra>",
         "hovertext": [
          "15060-1-1-65-HIS-H-N"
         ],
         "legendgroup": "HIS",
         "marker": {
          "color": "#B6E880",
          "opacity": 0.7,
          "symbol": "circle"
         },
         "mode": "markers",
         "name": "HIS",
         "orientation": "v",
         "showlegend": true,
         "type": "scatter",
         "x": [
          7.564
         ],
         "xaxis": "x",
         "y": [
          117.388
         ],
         "yaxis": "y"
        },
        {
         "hovertemplate": "<b>%{hovertext}</b><br><br>Residue=MET<br><sup>1</sup>H (ppm)=%{x}<br><sup>15</sup>N (ppm)=%{y}<extra></extra>",
         "hovertext": [
          "15060-1-1-89-MET-H-N"
         ],
         "legendgroup": "MET",
         "marker": {
          "color": "#FF97FF",
          "opacity": 0.7,
          "symbol": "circle"
         },
         "mode": "markers",
         "name": "MET",
         "orientation": "v",
         "showlegend": true,
         "type": "scatter",
         "x": [
          7.782
         ],
         "xaxis": "x",
         "y": [
          120.541
         ],
         "yaxis": "y"
        }
       ],
       "layout": {
        "legend": {
         "title": {
          "text": "Residue"
         },
         "tracegroupgap": 0
        },
        "template": {
         "data": {
          "bar": [
           {
            "error_x": {
             "color": "#2a3f5f"
            },
            "error_y": {
             "color": "#2a3f5f"
            },
            "marker": {
             "line": {
              "color": "#E5ECF6",
              "width": 0.5
             },
             "pattern": {
              "fillmode": "overlay",
              "size": 10,
              "solidity": 0.2
             }
            },
            "type": "bar"
           }
          ],
          "barpolar": [
           {
            "marker": {
             "line": {
              "color": "#E5ECF6",
              "width": 0.5
             },
             "pattern": {
              "fillmode": "overlay",
              "size": 10,
              "solidity": 0.2
             }
            },
            "type": "barpolar"
           }
          ],
          "carpet": [
           {
            "aaxis": {
             "endlinecolor": "#2a3f5f",
             "gridcolor": "white",
             "linecolor": "white",
             "minorgridcolor": "white",
             "startlinecolor": "#2a3f5f"
            },
            "baxis": {
             "endlinecolor": "#2a3f5f",
             "gridcolor": "white",
             "linecolor": "white",
             "minorgridcolor": "white",
             "startlinecolor": "#2a3f5f"
            },
            "type": "carpet"
           }
          ],
          "choropleth": [
           {
            "colorbar": {
             "outlinewidth": 0,
             "ticks": ""
            },
            "type": "choropleth"
           }
          ],
          "contour": [
           {
            "colorbar": {
             "outlinewidth": 0,
             "ticks": ""
            },
            "colorscale": [
             [
              0,
              "#0d0887"
             ],
             [
              0.1111111111111111,
              "#46039f"
             ],
             [
              0.2222222222222222,
              "#7201a8"
             ],
             [
              0.3333333333333333,
              "#9c179e"
             ],
             [
              0.4444444444444444,
              "#bd3786"
             ],
             [
              0.5555555555555556,
              "#d8576b"
             ],
             [
              0.6666666666666666,
              "#ed7953"
             ],
             [
              0.7777777777777778,
              "#fb9f3a"
             ],
             [
              0.8888888888888888,
              "#fdca26"
             ],
             [
              1,
              "#f0f921"
             ]
            ],
            "type": "contour"
           }
          ],
          "contourcarpet": [
           {
            "colorbar": {
             "outlinewidth": 0,
             "ticks": ""
            },
            "type": "contourcarpet"
           }
          ],
          "heatmap": [
           {
            "colorbar": {
             "outlinewidth": 0,
             "ticks": ""
            },
            "colorscale": [
             [
              0,
              "#0d0887"
             ],
             [
              0.1111111111111111,
              "#46039f"
             ],
             [
              0.2222222222222222,
              "#7201a8"
             ],
             [
              0.3333333333333333,
              "#9c179e"
             ],
             [
              0.4444444444444444,
              "#bd3786"
             ],
             [
              0.5555555555555556,
              "#d8576b"
             ],
             [
              0.6666666666666666,
              "#ed7953"
             ],
             [
              0.7777777777777778,
              "#fb9f3a"
             ],
             [
              0.8888888888888888,
              "#fdca26"
             ],
             [
              1,
              "#f0f921"
             ]
            ],
            "type": "heatmap"
           }
          ],
          "heatmapgl": [
           {
            "colorbar": {
             "outlinewidth": 0,
             "ticks": ""
            },
            "colorscale": [
             [
              0,
              "#0d0887"
             ],
             [
              0.1111111111111111,
              "#46039f"
             ],
             [
              0.2222222222222222,
              "#7201a8"
             ],
             [
              0.3333333333333333,
              "#9c179e"
             ],
             [
              0.4444444444444444,
              "#bd3786"
             ],
             [
              0.5555555555555556,
              "#d8576b"
             ],
             [
              0.6666666666666666,
              "#ed7953"
             ],
             [
              0.7777777777777778,
              "#fb9f3a"
             ],
             [
              0.8888888888888888,
              "#fdca26"
             ],
             [
              1,
              "#f0f921"
             ]
            ],
            "type": "heatmapgl"
           }
          ],
          "histogram": [
           {
            "marker": {
             "pattern": {
              "fillmode": "overlay",
              "size": 10,
              "solidity": 0.2
             }
            },
            "type": "histogram"
           }
          ],
          "histogram2d": [
           {
            "colorbar": {
             "outlinewidth": 0,
             "ticks": ""
            },
            "colorscale": [
             [
              0,
              "#0d0887"
             ],
             [
              0.1111111111111111,
              "#46039f"
             ],
             [
              0.2222222222222222,
              "#7201a8"
             ],
             [
              0.3333333333333333,
              "#9c179e"
             ],
             [
              0.4444444444444444,
              "#bd3786"
             ],
             [
              0.5555555555555556,
              "#d8576b"
             ],
             [
              0.6666666666666666,
              "#ed7953"
             ],
             [
              0.7777777777777778,
              "#fb9f3a"
             ],
             [
              0.8888888888888888,
              "#fdca26"
             ],
             [
              1,
              "#f0f921"
             ]
            ],
            "type": "histogram2d"
           }
          ],
          "histogram2dcontour": [
           {
            "colorbar": {
             "outlinewidth": 0,
             "ticks": ""
            },
            "colorscale": [
             [
              0,
              "#0d0887"
             ],
             [
              0.1111111111111111,
              "#46039f"
             ],
             [
              0.2222222222222222,
              "#7201a8"
             ],
             [
              0.3333333333333333,
              "#9c179e"
             ],
             [
              0.4444444444444444,
              "#bd3786"
             ],
             [
              0.5555555555555556,
              "#d8576b"
             ],
             [
              0.6666666666666666,
              "#ed7953"
             ],
             [
              0.7777777777777778,
              "#fb9f3a"
             ],
             [
              0.8888888888888888,
              "#fdca26"
             ],
             [
              1,
              "#f0f921"
             ]
            ],
            "type": "histogram2dcontour"
           }
          ],
          "mesh3d": [
           {
            "colorbar": {
             "outlinewidth": 0,
             "ticks": ""
            },
            "type": "mesh3d"
           }
          ],
          "parcoords": [
           {
            "line": {
             "colorbar": {
              "outlinewidth": 0,
              "ticks": ""
             }
            },
            "type": "parcoords"
           }
          ],
          "pie": [
           {
            "automargin": true,
            "type": "pie"
           }
          ],
          "scatter": [
           {
            "fillpattern": {
             "fillmode": "overlay",
             "size": 10,
             "solidity": 0.2
            },
            "type": "scatter"
           }
          ],
          "scatter3d": [
           {
            "line": {
             "colorbar": {
              "outlinewidth": 0,
              "ticks": ""
             }
            },
            "marker": {
             "colorbar": {
              "outlinewidth": 0,
              "ticks": ""
             }
            },
            "type": "scatter3d"
           }
          ],
          "scattercarpet": [
           {
            "marker": {
             "colorbar": {
              "outlinewidth": 0,
              "ticks": ""
             }
            },
            "type": "scattercarpet"
           }
          ],
          "scattergeo": [
           {
            "marker": {
             "colorbar": {
              "outlinewidth": 0,
              "ticks": ""
             }
            },
            "type": "scattergeo"
           }
          ],
          "scattergl": [
           {
            "marker": {
             "colorbar": {
              "outlinewidth": 0,
              "ticks": ""
             }
            },
            "type": "scattergl"
           }
          ],
          "scattermapbox": [
           {
            "marker": {
             "colorbar": {
              "outlinewidth": 0,
              "ticks": ""
             }
            },
            "type": "scattermapbox"
           }
          ],
          "scatterpolar": [
           {
            "marker": {
             "colorbar": {
              "outlinewidth": 0,
              "ticks": ""
             }
            },
            "type": "scatterpolar"
           }
          ],
          "scatterpolargl": [
           {
            "marker": {
             "colorbar": {
              "outlinewidth": 0,
              "ticks": ""
             }
            },
            "type": "scatterpolargl"
           }
          ],
          "scatterternary": [
           {
            "marker": {
             "colorbar": {
              "outlinewidth": 0,
              "ticks": ""
             }
            },
            "type": "scatterternary"
           }
          ],
          "surface": [
           {
            "colorbar": {
             "outlinewidth": 0,
             "ticks": ""
            },
            "colorscale": [
             [
              0,
              "#0d0887"
             ],
             [
              0.1111111111111111,
              "#46039f"
             ],
             [
              0.2222222222222222,
              "#7201a8"
             ],
             [
              0.3333333333333333,
              "#9c179e"
             ],
             [
              0.4444444444444444,
              "#bd3786"
             ],
             [
              0.5555555555555556,
              "#d8576b"
             ],
             [
              0.6666666666666666,
              "#ed7953"
             ],
             [
              0.7777777777777778,
              "#fb9f3a"
             ],
             [
              0.8888888888888888,
              "#fdca26"
             ],
             [
              1,
              "#f0f921"
             ]
            ],
            "type": "surface"
           }
          ],
          "table": [
           {
            "cells": {
             "fill": {
              "color": "#EBF0F8"
             },
             "line": {
              "color": "white"
             }
            },
            "header": {
             "fill": {
              "color": "#C8D4E3"
             },
             "line": {
              "color": "white"
             }
            },
            "type": "table"
           }
          ]
         },
         "layout": {
          "annotationdefaults": {
           "arrowcolor": "#2a3f5f",
           "arrowhead": 0,
           "arrowwidth": 1
          },
          "autotypenumbers": "strict",
          "coloraxis": {
           "colorbar": {
            "outlinewidth": 0,
            "ticks": ""
           }
          },
          "colorscale": {
           "diverging": [
            [
             0,
             "#8e0152"
            ],
            [
             0.1,
             "#c51b7d"
            ],
            [
             0.2,
             "#de77ae"
            ],
            [
             0.3,
             "#f1b6da"
            ],
            [
             0.4,
             "#fde0ef"
            ],
            [
             0.5,
             "#f7f7f7"
            ],
            [
             0.6,
             "#e6f5d0"
            ],
            [
             0.7,
             "#b8e186"
            ],
            [
             0.8,
             "#7fbc41"
            ],
            [
             0.9,
             "#4d9221"
            ],
            [
             1,
             "#276419"
            ]
           ],
           "sequential": [
            [
             0,
             "#0d0887"
            ],
            [
             0.1111111111111111,
             "#46039f"
            ],
            [
             0.2222222222222222,
             "#7201a8"
            ],
            [
             0.3333333333333333,
             "#9c179e"
            ],
            [
             0.4444444444444444,
             "#bd3786"
            ],
            [
             0.5555555555555556,
             "#d8576b"
            ],
            [
             0.6666666666666666,
             "#ed7953"
            ],
            [
             0.7777777777777778,
             "#fb9f3a"
            ],
            [
             0.8888888888888888,
             "#fdca26"
            ],
            [
             1,
             "#f0f921"
            ]
           ],
           "sequentialminus": [
            [
             0,
             "#0d0887"
            ],
            [
             0.1111111111111111,
             "#46039f"
            ],
            [
             0.2222222222222222,
             "#7201a8"
            ],
            [
             0.3333333333333333,
             "#9c179e"
            ],
            [
             0.4444444444444444,
             "#bd3786"
            ],
            [
             0.5555555555555556,
             "#d8576b"
            ],
            [
             0.6666666666666666,
             "#ed7953"
            ],
            [
             0.7777777777777778,
             "#fb9f3a"
            ],
            [
             0.8888888888888888,
             "#fdca26"
            ],
            [
             1,
             "#f0f921"
            ]
           ]
          },
          "colorway": [
           "#636efa",
           "#EF553B",
           "#00cc96",
           "#ab63fa",
           "#FFA15A",
           "#19d3f3",
           "#FF6692",
           "#B6E880",
           "#FF97FF",
           "#FECB52"
          ],
          "font": {
           "color": "#2a3f5f"
          },
          "geo": {
           "bgcolor": "white",
           "lakecolor": "white",
           "landcolor": "#E5ECF6",
           "showlakes": true,
           "showland": true,
           "subunitcolor": "white"
          },
          "hoverlabel": {
           "align": "left"
          },
          "hovermode": "closest",
          "mapbox": {
           "style": "light"
          },
          "paper_bgcolor": "white",
          "plot_bgcolor": "#E5ECF6",
          "polar": {
           "angularaxis": {
            "gridcolor": "white",
            "linecolor": "white",
            "ticks": ""
           },
           "bgcolor": "#E5ECF6",
           "radialaxis": {
            "gridcolor": "white",
            "linecolor": "white",
            "ticks": ""
           }
          },
          "scene": {
           "xaxis": {
            "backgroundcolor": "#E5ECF6",
            "gridcolor": "white",
            "gridwidth": 2,
            "linecolor": "white",
            "showbackground": true,
            "ticks": "",
            "zerolinecolor": "white"
           },
           "yaxis": {
            "backgroundcolor": "#E5ECF6",
            "gridcolor": "white",
            "gridwidth": 2,
            "linecolor": "white",
            "showbackground": true,
            "ticks": "",
            "zerolinecolor": "white"
           },
           "zaxis": {
            "backgroundcolor": "#E5ECF6",
            "gridcolor": "white",
            "gridwidth": 2,
            "linecolor": "white",
            "showbackground": true,
            "ticks": "",
            "zerolinecolor": "white"
           }
          },
          "shapedefaults": {
           "line": {
            "color": "#2a3f5f"
           }
          },
          "ternary": {
           "aaxis": {
            "gridcolor": "white",
            "linecolor": "white",
            "ticks": ""
           },
           "baxis": {
            "gridcolor": "white",
            "linecolor": "white",
            "ticks": ""
           },
           "bgcolor": "#E5ECF6",
           "caxis": {
            "gridcolor": "white",
            "linecolor": "white",
            "ticks": ""
           }
          },
          "title": {
           "x": 0.05
          },
          "xaxis": {
           "automargin": true,
           "gridcolor": "white",
           "linecolor": "white",
           "ticks": "",
           "title": {
            "standoff": 15
           },
           "zerolinecolor": "white",
           "zerolinewidth": 2
          },
          "yaxis": {
           "automargin": true,
           "gridcolor": "white",
           "linecolor": "white",
           "ticks": "",
           "title": {
            "standoff": 15
           },
           "zerolinecolor": "white",
           "zerolinewidth": 2
          }
         }
        },
        "title": {
         "text": "Simulated <sup>1</sup>H-<sup>15</sup>N HSQC peak positions",
         "x": 0.5
        },
        "xaxis": {
         "anchor": "y",
         "autorange": "reversed",
         "domain": [
          0,
          1
         ],
         "title": {
          "text": "<sup>1</sup>H (ppm)"
         }
        },
        "yaxis": {
         "anchor": "x",
         "autorange": "reversed",
         "domain": [
          0,
          1
         ],
         "title": {
          "text": "<sup>15</sup>N (ppm)"
         }
        }
       }
      }
     },
     "metadata": {},
     "output_type": "display_data"
    }
   ],
   "source": [
    "peak_list=Spectra.n15hsqc(bmrb_ids=15060, legend='residue')"
   ]
  }
 ],
 "metadata": {
  "kernelspec": {
   "display_name": "Python 3.9.7 ('base')",
   "language": "python",
   "name": "python3"
  },
  "language_info": {
   "codemirror_mode": {
    "name": "ipython",
    "version": 3
   },
   "file_extension": ".py",
   "mimetype": "text/x-python",
   "name": "python",
   "nbconvert_exporter": "python",
   "pygments_lexer": "ipython3",
   "version": "3.9.7"
  },
  "orig_nbformat": 4,
  "vscode": {
   "interpreter": {
    "hash": "eb4b277fc1959c4895becf92c69c1b69376944e7664a9bd1e3a4ea3d71b012fa"
   }
  }
 },
 "nbformat": 4,
 "nbformat_minor": 2
}
