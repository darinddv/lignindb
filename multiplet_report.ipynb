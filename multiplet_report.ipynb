{
 "cells": [
  {
   "cell_type": "code",
   "execution_count": 1,
   "metadata": {},
   "outputs": [],
   "source": [
    "import pandas as pd\n",
    "import numpy as np\n",
    "import os\n",
    "import glob\n",
    "\n",
    "# Performs sorting the natural way.\n",
    "# Before, files were sorted 1, 10, 100,\n",
    "# instead of 1, 2, 3\n",
    "from natsort import natsorted"
   ]
  },
  {
   "cell_type": "code",
   "execution_count": 2,
   "metadata": {},
   "outputs": [],
   "source": [
    "os.chdir('./1HTables/250Hz')\n",
    "path = os.getcwd()\n",
    "# Glue path of each csv file in dir, then sort 'numerically' with natsort\n",
    "csv_files = natsorted(glob.glob(os.path.join(path, \"*.csv\")))\n",
    "\n",
    "start = '_'\n",
    "end = '.'\n",
    "data = []\n",
    "for i,table in enumerate(csv_files):\n",
    "    file = pd.read_csv(table)\n",
    "    # Find solvent name in the file name\n",
    "    solvent = table[table.find(start)+len(start):table.rfind(end)]\n",
    "    file = file.drop(file.columns[0:2],axis=1)\n",
    "    file.iloc[:,1].fillna('s', inplace=True)\n",
    "    file.iloc[:,2].fillna('', inplace=True)\n",
    "    # Combine columns\n",
    "    file = file.assign(peaks = file.iloc[:, 0].astype(str) + ' (' + \\\n",
    "      file.iloc[:, 1].astype(str) + ', J=0' + file.iloc[:, 2].astype(str) + ' Hz), ')\n",
    "    # Condense combined column into a list\n",
    "    peaks_list = ''.join(list(file[\"peaks\"][0:]))\n",
    "    # Cut off extra space at end and trailing comma\n",
    "    peaks_list = peaks_list[:-2]\n",
    "    peaks_report = \"1H NMR (250 MHz, {}) {}\".format(solvent,peaks_list)\n",
    "    data.append(peaks_report)\n"
   ]
  },
  {
   "cell_type": "code",
   "execution_count": 4,
   "metadata": {},
   "outputs": [],
   "source": [
    "df = pd.DataFrame(data)\n",
    "df.to_csv('../../250Hz.csv', index=False)"
   ]
  },
  {
   "cell_type": "markdown",
   "metadata": {},
   "source": [
    "1H NMR (300 MHz, CDCl3) \n",
    "7.91 (d, J=8.2 Hz, 2H), \n",
    "7.31 (d, J=8.2 Hz, 2H), \n",
    "3.65 (t, J=6.3 Hz, 2H), \n",
    "3.13 (t, J=6.9 Hz, 2H), \n",
    "2.95 (p, J=6.9 Hz, 1H), \n",
    "2.20 (p, J=6.6 Hz, 2H), \n",
    "1.26 (d, J=6.9 Hz, 6H)"
   ]
  },
  {
   "cell_type": "code",
   "execution_count": 6,
   "metadata": {},
   "outputs": [],
   "source": [
    "#os.chdir('./1HTables/250Hz')\n",
    "path = os.getcwd()\n",
    "# Glue path of each csv file in dir, then sort 'numerically' with natsort\n",
    "csv_files = natsorted(glob.glob(os.path.join(path, \"*.csv\")))\n",
    "\n",
    "start = '_'\n",
    "end = '.'\n",
    "test = []\n",
    "for i,table in enumerate(csv_files):\n",
    "    file = pd.read_csv(table)\n",
    "    # Find solvent name in the file name\n",
    "    #solvent = table[table.find(start)+len(start):table.rfind(end)]\n",
    "    file = file.drop(file.columns[0:2],axis=1)\n",
    "    file.iloc[:,1].fillna('s', inplace=True)\n",
    "    file.iloc[:,2].fillna('', inplace=True)\n",
    "    # Combine columns\n",
    "    file = file.assign(peaks = file.iloc[:, 0].astype(str) + ' (' + \\\n",
    "      file.iloc[:, 1].astype(str) + ', J=0' + file.iloc[:, 2].astype(str) + ' Hz), ')\n",
    "    # Condense combined column into a list\n",
    "    peaks_list = ''.join(list(file[\"peaks\"][0:]))\n",
    "    # Cut off extra space at end and trailing comma\n",
    "    peaks_list = peaks_list[:-2]\n",
    "    peaks_report = \"{}\".format(peaks_list)\n",
    "    test.append(peaks_report)\n"
   ]
  },
  {
   "cell_type": "code",
   "execution_count": 7,
   "metadata": {},
   "outputs": [],
   "source": [
    "df = pd.DataFrame(test)\n",
    "df.to_csv('../../250HzTEST.csv', index=False)"
   ]
  }
 ],
 "metadata": {
  "kernelspec": {
   "display_name": "Python 3.10.4 ('lignindb-zQ6Is1ag')",
   "language": "python",
   "name": "python3"
  },
  "language_info": {
   "codemirror_mode": {
    "name": "ipython",
    "version": 3
   },
   "file_extension": ".py",
   "mimetype": "text/x-python",
   "name": "python",
   "nbconvert_exporter": "python",
   "pygments_lexer": "ipython3",
   "version": "3.10.4 (tags/v3.10.4:9d38120, Mar 23 2022, 23:13:41) [MSC v.1929 64 bit (AMD64)]"
  },
  "orig_nbformat": 4,
  "vscode": {
   "interpreter": {
    "hash": "b42482e7df71ec06ef035674e49d5862a8bc862f7d51a4fba23c4baed066ae39"
   }
  }
 },
 "nbformat": 4,
 "nbformat_minor": 2
}
